{
 "cells": [
  {
   "cell_type": "markdown",
   "metadata": {},
   "source": [
    "Generative Adversarial Networks"
   ]
  },
  {
   "cell_type": "code",
   "execution_count": 1,
   "metadata": {},
   "outputs": [
    {
     "data": {
      "image/png": "[encoded data removed]",
      "text/plain": [
       "<Figure size 640x480 with 4 Axes>"
      ]
     },
     "metadata": {},
     "output_type": "display_data"
    }
   ],
   "source": [
    "import numpy as np\n",
    "import matplotlib.pyplot as plt\n",
    "\n",
    "from tensorflow.keras.datasets import mnist\n",
    "from tensorflow.keras.models import Sequential\n",
    "from tensorflow.keras.layers import Dense, Flatten, Reshape, Conv2D, Conv2DTranspose, BatchNormalization, LeakyReLU # relu versiyonudur. girdi +x ise +x verir, -x ise -ax iler çarpımını verir, a = çok kücük bir degerdir\n",
    "from tensorflow.keras.optimizers import Adam\n",
    "# %pip install tqdm\n",
    "from tqdm import tqdm # for dongusune ilerleme sayaci ekler\n",
    "\n",
    "import warnings\n",
    "warnings.filterwarnings(\"ignore\")\n",
    "\n",
    "# veri setini yükle\n",
    "(x_train, _), (_, _) = mnist.load_data()\n",
    "\n",
    "#normalizasyon\n",
    "x_train = x_train.astype('float32') / 255.0\n",
    "\n",
    "#boyutların ayarlanması(28x28) -> (28, 28, 1)\n",
    "x_train = np.expand_dims(x_train, axis=-1)\n",
    "\n",
    "\n",
    "plt.figure()\n",
    "for i in range(4):\n",
    "    plt.subplot(1, 4, i+1)\n",
    "    plt.imshow(x_train[i], cmap='gray')\n",
    "    plt.axis('off')"
   ]
  },
  {
   "cell_type": "markdown",
   "metadata": {},
   "source": [
    "8.3"
   ]
  },
  {
   "cell_type": "code",
   "execution_count": null,
   "metadata": {},
   "outputs": [
    {
     "name": "stdout",
     "output_type": "stream",
     "text": [
      "<Sequential name=sequential_24, built=True>\n",
      "<Sequential name=sequential_25, built=True>\n"
     ]
    }
   ],
   "source": [
    "# gan param\n",
    "z_dim = 100 # gurultu vektorunun boyutu\n",
    "\n",
    "# discriminator modeline tanımla\n",
    "def build_disc():\n",
    "    model = Sequential()\n",
    "    model.add(Conv2D(64, kernel_size=3, strides = 2 , padding='same', input_shape = ( 28,28,1 )))\n",
    "    model.add(LeakyReLU(alpha=0.2))\n",
    "\n",
    "    model.add(Conv2D(128, kernel_size=3, strides = 2 , padding='same'))\n",
    "    model.add(LeakyReLU(alpha=0.2))\n",
    "\n",
    "    model.add(Flatten())\n",
    "    model.add(Dense(1,activation='sigmoid'))\n",
    "\n",
    "    model.compile(loss = \"binary_crossentropy\", optimizer = Adam(0.0002, 0.5), metrics = ['accuracy']) # 0.0002 = learning rate, 0.5 = beta_1\n",
    "\n",
    "    return model\n",
    "\n",
    "# generator modeline tanımla\n",
    "def build_gen():\n",
    "    model = Sequential()\n",
    "    model.add(Dense(7*7*128, input_dim = z_dim)) # gurultu vektorlerinden yuksek boyutlu uzaya donusum\n",
    "    model.add(LeakyReLU(alpha=0.2))\n",
    "    model.add(Reshape((7,7,128)))\n",
    "    model.add(BatchNormalization())\n",
    "    model.add(Conv2DTranspose(64, kernel_size=3, strides = 2, padding='same'))\n",
    "    model.add(LeakyReLU(alpha=0.2))\n",
    "    model.add(BatchNormalization())\n",
    "    model.add(Conv2DTranspose(1, kernel_size=3, strides = 2, padding='same',activation='tanh'))\n",
    "\n",
    "    return model\n",
    "\n",
    "print(build_disc())\n",
    "print(build_gen())\n"
   ]
  },
  {
   "cell_type": "markdown",
   "metadata": {},
   "source": [
    "8.4"
   ]
  },
  {
   "cell_type": "code",
   "execution_count": null,
   "metadata": {},
   "outputs": [
    {
     "data": {
      "text/html": [
       "<pre style=\"white-space:pre;overflow-x:auto;line-height:normal;font-family:Menlo,'DejaVu Sans Mono',consolas,'Courier New',monospace\"><span style=\"font-weight: bold\">Model: \"sequential_28\"</span>\n",
       "</pre>\n"
      ],
      "text/plain": [
       "\u001b[1mModel: \"sequential_28\"\u001b[0m\n"
      ]
     },
     "metadata": {},
     "output_type": "display_data"
    },
    {
     "data": {
      "text/html": [
       "<pre style=\"white-space:pre;overflow-x:auto;line-height:normal;font-family:Menlo,'DejaVu Sans Mono',consolas,'Courier New',monospace\">┏━━━━━━━━━━━━━━━━━━━━━━━━━━━━━━━━━┳━━━━━━━━━━━━━━━━━━━━━━━━┳━━━━━━━━━━━━━━━┓\n",
       "┃<span style=\"font-weight: bold\"> Layer (type)                    </span>┃<span style=\"font-weight: bold\"> Output Shape           </span>┃<span style=\"font-weight: bold\">       Param # </span>┃\n",
       "┡━━━━━━━━━━━━━━━━━━━━━━━━━━━━━━━━━╇━━━━━━━━━━━━━━━━━━━━━━━━╇━━━━━━━━━━━━━━━┩\n",
       "│ sequential_27 (<span style=\"color: #0087ff; text-decoration-color: #0087ff\">Sequential</span>)      │ (<span style=\"color: #00d7ff; text-decoration-color: #00d7ff\">None</span>, <span style=\"color: #00af00; text-decoration-color: #00af00\">28</span>, <span style=\"color: #00af00; text-decoration-color: #00af00\">28</span>, <span style=\"color: #00af00; text-decoration-color: #00af00\">1</span>)      │       <span style=\"color: #00af00; text-decoration-color: #00af00\">708,609</span> │\n",
       "├─────────────────────────────────┼────────────────────────┼───────────────┤\n",
       "│ sequential_26 (<span style=\"color: #0087ff; text-decoration-color: #0087ff\">Sequential</span>)      │ (<span style=\"color: #00d7ff; text-decoration-color: #00d7ff\">None</span>, <span style=\"color: #00af00; text-decoration-color: #00af00\">1</span>)              │        <span style=\"color: #00af00; text-decoration-color: #00af00\">80,769</span> │\n",
       "└─────────────────────────────────┴────────────────────────┴───────────────┘\n",
       "</pre>\n"
      ],
      "text/plain": [
       "┏━━━━━━━━━━━━━━━━━━━━━━━━━━━━━━━━━┳━━━━━━━━━━━━━━━━━━━━━━━━┳━━━━━━━━━━━━━━━┓\n",
       "┃\u001b[1m \u001b[0m\u001b[1mLayer (type)                   \u001b[0m\u001b[1m \u001b[0m┃\u001b[1m \u001b[0m\u001b[1mOutput Shape          \u001b[0m\u001b[1m \u001b[0m┃\u001b[1m \u001b[0m\u001b[1m      Param #\u001b[0m\u001b[1m \u001b[0m┃\n",
       "┡━━━━━━━━━━━━━━━━━━━━━━━━━━━━━━━━━╇━━━━━━━━━━━━━━━━━━━━━━━━╇━━━━━━━━━━━━━━━┩\n",
       "│ sequential_27 (\u001b[38;5;33mSequential\u001b[0m)      │ (\u001b[38;5;45mNone\u001b[0m, \u001b[38;5;34m28\u001b[0m, \u001b[38;5;34m28\u001b[0m, \u001b[38;5;34m1\u001b[0m)      │       \u001b[38;5;34m708,609\u001b[0m │\n",
       "├─────────────────────────────────┼────────────────────────┼───────────────┤\n",
       "│ sequential_26 (\u001b[38;5;33mSequential\u001b[0m)      │ (\u001b[38;5;45mNone\u001b[0m, \u001b[38;5;34m1\u001b[0m)              │        \u001b[38;5;34m80,769\u001b[0m │\n",
       "└─────────────────────────────────┴────────────────────────┴───────────────┘\n"
      ]
     },
     "metadata": {},
     "output_type": "display_data"
    },
    {
     "data": {
      "text/html": [
       "<pre style=\"white-space:pre;overflow-x:auto;line-height:normal;font-family:Menlo,'DejaVu Sans Mono',consolas,'Courier New',monospace\"><span style=\"font-weight: bold\"> Total params: </span><span style=\"color: #00af00; text-decoration-color: #00af00\">789,378</span> (3.01 MB)\n",
       "</pre>\n"
      ],
      "text/plain": [
       "\u001b[1m Total params: \u001b[0m\u001b[38;5;34m789,378\u001b[0m (3.01 MB)\n"
      ]
     },
     "metadata": {},
     "output_type": "display_data"
    },
    {
     "data": {
      "text/html": [
       "<pre style=\"white-space:pre;overflow-x:auto;line-height:normal;font-family:Menlo,'DejaVu Sans Mono',consolas,'Courier New',monospace\"><span style=\"font-weight: bold\"> Trainable params: </span><span style=\"color: #00af00; text-decoration-color: #00af00\">708,225</span> (2.70 MB)\n",
       "</pre>\n"
      ],
      "text/plain": [
       "\u001b[1m Trainable params: \u001b[0m\u001b[38;5;34m708,225\u001b[0m (2.70 MB)\n"
      ]
     },
     "metadata": {},
     "output_type": "display_data"
    },
    {
     "data": {
      "text/html": [
       "<pre style=\"white-space:pre;overflow-x:auto;line-height:normal;font-family:Menlo,'DejaVu Sans Mono',consolas,'Courier New',monospace\"><span style=\"font-weight: bold\"> Non-trainable params: </span><span style=\"color: #00af00; text-decoration-color: #00af00\">81,153</span> (317.00 KB)\n",
       "</pre>\n"
      ],
      "text/plain": [
       "\u001b[1m Non-trainable params: \u001b[0m\u001b[38;5;34m81,153\u001b[0m (317.00 KB)\n"
      ]
     },
     "metadata": {},
     "output_type": "display_data"
    },
    {
     "name": "stdout",
     "output_type": "stream",
     "text": [
      "None\n"
     ]
    }
   ],
   "source": [
    "def build_gan(gen, disc):\n",
    "    disc.trainable = False # discriminator modeli eğitilmez\n",
    "\n",
    "    model = Sequential()\n",
    "    model.add(gen) # generator modeli\n",
    "    model.add(disc) # discriminator modeli\n",
    "    model.compile(loss = \"binary_crossentropy\", optimizer = Adam(0.0002, 0.5))\n",
    "    return model\n",
    "\n",
    "disc = build_disc()\n",
    "gen = build_gen()\n",
    "gan = build_gan(gen, disc)\n",
    "print(gan.summary())"
   ]
  },
  {
   "cell_type": "markdown",
   "metadata": {},
   "source": [
    "8.5.6"
   ]
  },
  {
   "cell_type": "code",
   "execution_count": null,
   "metadata": {},
   "outputs": [
    {
     "name": "stderr",
     "output_type": "stream",
     "text": [
      "Trading Process:   0%|          | 2/10000 [00:01<2:06:52,  1.31it/s]"
     ]
    },
    {
     "name": "stdout",
     "output_type": "stream",
     "text": [
      "Epoch: 0 [D loss: 0.6952242851257324 - D accuracy: 47.65625] [G loss: 0.6999276876449585]\n"
     ]
    },
    {
     "name": "stderr",
     "output_type": "stream",
     "text": [
      "Trading Process:  10%|█         | 1002/10000 [01:54<17:58,  8.35it/s]"
     ]
    },
    {
     "name": "stdout",
     "output_type": "stream",
     "text": [
      "Epoch: 1000 [D loss: 1.1583688259124756 - D accuracy: 19.76642608642578] [G loss: 0.20813821256160736]\n"
     ]
    },
    {
     "name": "stderr",
     "output_type": "stream",
     "text": [
      "Trading Process:  20%|██        | 2002/10000 [03:46<14:53,  8.95it/s]"
     ]
    },
    {
     "name": "stdout",
     "output_type": "stream",
     "text": [
      "Epoch: 2000 [D loss: 1.2560322284698486 - D accuracy: 19.627016067504883] [G loss: 0.17590704560279846]\n"
     ]
    },
    {
     "name": "stderr",
     "output_type": "stream",
     "text": [
      "Trading Process:  30%|███       | 3001/10000 [05:29<11:14, 10.38it/s]"
     ]
    },
    {
     "name": "stdout",
     "output_type": "stream",
     "text": [
      "Epoch: 3000 [D loss: 1.2920796871185303 - D accuracy: 19.561777114868164] [G loss: 0.1640937775373459]\n"
     ]
    },
    {
     "name": "stderr",
     "output_type": "stream",
     "text": [
      "Trading Process:  40%|████      | 4002/10000 [07:05<09:42, 10.30it/s]"
     ]
    },
    {
     "name": "stdout",
     "output_type": "stream",
     "text": [
      "Epoch: 4000 [D loss: 1.3112051486968994 - D accuracy: 19.501420974731445] [G loss: 0.1578574925661087]\n"
     ]
    },
    {
     "name": "stderr",
     "output_type": "stream",
     "text": [
      "Trading Process:  50%|█████     | 5002/10000 [08:43<08:14, 10.10it/s]"
     ]
    },
    {
     "name": "stdout",
     "output_type": "stream",
     "text": [
      "Epoch: 5000 [D loss: 1.3231360912322998 - D accuracy: 19.514259338378906] [G loss: 0.15397752821445465]\n"
     ]
    },
    {
     "name": "stderr",
     "output_type": "stream",
     "text": [
      "Trading Process:  60%|██████    | 6002/10000 [10:23<07:28,  8.91it/s]"
     ]
    },
    {
     "name": "stdout",
     "output_type": "stream",
     "text": [
      "Epoch: 6000 [D loss: 1.3312599658966064 - D accuracy: 19.467357635498047] [G loss: 0.1513427197933197]\n"
     ]
    },
    {
     "name": "stderr",
     "output_type": "stream",
     "text": [
      "Trading Process:  70%|███████   | 7002/10000 [12:15<05:37,  8.89it/s]"
     ]
    },
    {
     "name": "stdout",
     "output_type": "stream",
     "text": [
      "Epoch: 7000 [D loss: 1.3371366262435913 - D accuracy: 19.493446350097656] [G loss: 0.14944007992744446]\n"
     ]
    },
    {
     "name": "stderr",
     "output_type": "stream",
     "text": [
      "Trading Process:  80%|████████  | 8002/10000 [14:06<03:41,  9.03it/s]"
     ]
    },
    {
     "name": "stdout",
     "output_type": "stream",
     "text": [
      "Epoch: 8000 [D loss: 1.3415520191192627 - D accuracy: 19.474931716918945] [G loss: 0.14800302684307098]\n"
     ]
    },
    {
     "name": "stderr",
     "output_type": "stream",
     "text": [
      "Trading Process:  90%|█████████ | 9002/10000 [15:56<01:50,  9.01it/s]"
     ]
    },
    {
     "name": "stdout",
     "output_type": "stream",
     "text": [
      "Epoch: 9000 [D loss: 1.3449839353561401 - D accuracy: 19.48049545288086] [G loss: 0.14688168466091156]\n"
     ]
    },
    {
     "name": "stderr",
     "output_type": "stream",
     "text": [
      "Trading Process: 100%|██████████| 10000/10000 [17:45<00:00,  9.38it/s]\n"
     ]
    }
   ],
   "source": [
    "epochs = 10000\n",
    "\n",
    "batch_size = 64\n",
    "half_batch = batch_size // 2\n",
    "\n",
    "for epoch in tqdm(range(epochs), desc=\"Traiding Process\"):\n",
    "\n",
    "    idx = np.random.randint(0, x_train.shape[0], half_batch)\n",
    "    real_imgs = x_train[idx]\n",
    "    real_labels = np.ones((half_batch, 1)) # gerçek resimler için etiketler\n",
    "\n",
    "    noise = np.random.normal(0, 1, (half_batch, z_dim))\n",
    "    fake_imgs = gen.predict(noise, verbose=0)\n",
    "    fake_labels = np.zeros((half_batch, 1)) # sahte resimler için etiketler\n",
    "\n",
    "    d_loss_real = disc.train_on_batch(real_imgs, real_labels)\n",
    "    d_loss_fake = disc.train_on_batch(fake_imgs, fake_labels)\n",
    "    d_loss = np.add(d_loss_real, d_loss_fake) * 0.5\n",
    "\n",
    "    noise = np.random.normal(0, 1, (batch_size, z_dim))\n",
    "    valid_y = np.ones((batch_size, 1))\n",
    "    g_loss = gan.train_on_batch(noise, valid_y)\n",
    "\n",
    "    if epoch % 1000 == 0:\n",
    "        print(f\"Epoch: {epoch} [D loss: {d_loss[0]} - D accuracy: {100*d_loss[1]}] [G loss: {g_loss}]\")"
   ]
  },
  {
   "cell_type": "code",
   "execution_count": null,
   "metadata": {},
   "outputs": [
    {
     "data": {
      "image/png": "[encoded data removed]",
      "text/plain": [
       "<Figure size 1000x100 with 10 Axes>"
      ]
     },
     "metadata": {},
     "output_type": "display_data"
    }
   ],
   "source": [
    "def plot_gen(gen, epoch, examples=10, dim=(1, 10)):\n",
    "\n",
    "    noise = np.random.normal(0, 1, size=[examples, z_dim])\n",
    "    generated_imgs = gen.predict(noise,verbose=0)\n",
    "    generated_imgs = 0.5*generated_imgs + 0.5\n",
    "\n",
    "    plt.figure(figsize=(10, 1))\n",
    "    for i in range(generated_imgs.shape[0]):\n",
    "        plt.subplot(dim[0], dim[1], i+1)\n",
    "        plt.imshow(generated_imgs[i,:,:,0], cmap='gray')\n",
    "        plt.axis('off')\n",
    "    plt.tight_layout()\n",
    "    plt.savefig(f\"gan_generated_image_epoch_{epoch}.png\")\n",
    "    plt.show()\n",
    "plot_gen(gen, epochs)"
   ]
  }
 ],
 "metadata": {
  "kernelspec": {
   "display_name": "Python 3",
   "language": "python",
   "name": "python3"
  },
  "language_info": {
   "codemirror_mode": {
    "name": "ipython",
    "version": 3
   },
   "file_extension": ".py",
   "mimetype": "text/x-python",
   "name": "python",
   "nbconvert_exporter": "python",
   "pygments_lexer": "ipython3",
   "version": "3.11.6"
  }
 },
 "nbformat": 4,
 "nbformat_minor": 2
}
