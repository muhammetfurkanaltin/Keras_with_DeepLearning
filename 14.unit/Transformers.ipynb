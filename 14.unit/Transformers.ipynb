{
 "cells": [
  {
   "cell_type": "code",
   "execution_count": 14,
   "metadata": {},
   "outputs": [
    {
     "name": "stdout",
     "output_type": "stream",
     "text": [
      "Yorum : unfunny jokes and horrible comic situations it is like watching chris rock being chris rock not a character in a movie br br let's emphasize the <UNK> in down to earth mark <UNK> does not do any worse here than he did in the <UNK> in <UNK> rock vegas eugene levy and <UNK> <UNK> are well cast but they are at the mercy of a <UNK> script those are all the good qualities i can mention at this time and if you give me another week to <UNK> it is not likely that i will come up with any more,'\n",
      "'\n",
      "etiket : 0\n",
      "\n",
      "Yorum : 1982 1 2 br br vintage <UNK> on the sword and <UNK> animated film which is only available via the washed out vhs print owned by ralph bakshi himself it goes into some detail about the <UNK> technique and also shows several instances of live action <UNK> in a studio of segments from the script which would then be <UNK> <UNK> in with the backgrounds and filmed still having watched several such behind the scenes <UNK> on the art of animation on the disney <UNK> and the looney tunes sets for instance it's doesn't make for a very compelling piece,'\n",
      "'\n",
      "etiket : 1\n",
      "\n",
      "Yorum : of them knows how to aim the stupid punk guy shoots in the <UNK> nowhere like a crazy they all want to look professional but they all suck one more thing i don't believe that there's no <UNK> exit in the school the kids are trying several doors but they all locked what happens if there's a fire and the <UNK> security guard is dead it is illegal to not have an <UNK> exit in school anyway there's a lot more to say but it would be too long i spent some time of my life to watch a crap,'\n",
      "'\n",
      "etiket : 0\n",
      "\n"
     ]
    }
   ],
   "source": [
    "import numpy as np\n",
    "import matplotlib.pyplot as plt\n",
    "\n",
    "import tensorflow as tf \n",
    "from tensorflow.keras import layers, models\n",
    "from tensorflow.keras.datasets import imdb\n",
    "from tensorflow.keras.preprocessing.sequence import pad_sequences\n",
    "\n",
    "max_features = 10000 # encok kullanılan n kelmeyi kullan\n",
    "maxlen = 100 #her yorumun uzunlugu\n",
    "\n",
    "(x_train, y_train), (x_test,y_test) = imdb.load_data(num_words = max_features)\n",
    "\n",
    "# yorumların uzunlaklarını 100 olacak sekilde ayarla\n",
    "x_train = pad_sequences (x_train, maxlen = maxlen)\n",
    "x_test = pad_sequences(x_test, maxlen = maxlen)\n",
    "\n",
    "word_index = imdb.get_word_index() \n",
    "\n",
    "# kelime dizinin geri dondurmk için ters cevirelim \n",
    "reverse_word_index = {index+3: word for word, index in word_index.items() } # ters dizini\n",
    "reverse_word_index[0] = \"<PAD>\" # PAD ile eslestir\n",
    "reverse_word_index[1] = \"<START>\" \n",
    "reverse_word_index[2] = \"<UNK>\"\n",
    "reverse_word_index[3] = \"<UNUSED>\"\n",
    "\n",
    "# ornek metinleri yazdırma\n",
    "def decode_review(encoded_review):\n",
    "    return \" \".join([reverse_word_index.get(word, \"?\") for word in encoded_review]) # her sayiyi kelimeyi cevir\n",
    "\n",
    "random_indices = np.random.choice(len(x_train), size=3, replace = False) # rastgele 3 yorum sec\n",
    "for i in random_indices:\n",
    "    print(f\"Yorum : {decode_review(x_train[i])},'\\n'\")\n",
    "    print(f\"etiket : {y_train[i]}\")\n",
    "    print()\n",
    "\n"
   ]
  },
  {
   "cell_type": "code",
   "execution_count": 21,
   "metadata": {},
   "outputs": [
    {
     "name": "stderr",
     "output_type": "stream",
     "text": [
      "c:\\Users\\mfurk\\AppData\\Local\\Programs\\Python\\Python311\\Lib\\site-packages\\keras\\src\\layers\\layer.py:393: UserWarning: `build()` was called on layer 'transformer_model_13', however the layer does not have a `build()` method implemented and it looks like it has unbuilt state. This will cause the layer to be marked as built, despite not being actually built, which may cause failures down the line. Make sure to implement a proper `build()` method.\n",
      "  warnings.warn(\n"
     ]
    },
    {
     "data": {
      "text/html": [
       "<pre style=\"white-space:pre;overflow-x:auto;line-height:normal;font-family:Menlo,'DejaVu Sans Mono',consolas,'Courier New',monospace\"><span style=\"font-weight: bold\">Model: \"transformer_model_13\"</span>\n",
       "</pre>\n"
      ],
      "text/plain": [
       "\u001b[1mModel: \"transformer_model_13\"\u001b[0m\n"
      ]
     },
     "metadata": {},
     "output_type": "display_data"
    },
    {
     "data": {
      "text/html": [
       "<pre style=\"white-space:pre;overflow-x:auto;line-height:normal;font-family:Menlo,'DejaVu Sans Mono',consolas,'Courier New',monospace\">┏━━━━━━━━━━━━━━━━━━━━━━━━━━━━━━━━━┳━━━━━━━━━━━━━━━━━━━━━━━━┳━━━━━━━━━━━━━━━┓\n",
       "┃<span style=\"font-weight: bold\"> Layer (type)                    </span>┃<span style=\"font-weight: bold\"> Output Shape           </span>┃<span style=\"font-weight: bold\">       Param # </span>┃\n",
       "┡━━━━━━━━━━━━━━━━━━━━━━━━━━━━━━━━━╇━━━━━━━━━━━━━━━━━━━━━━━━╇━━━━━━━━━━━━━━━┩\n",
       "│ embedding_9 (<span style=\"color: #0087ff; text-decoration-color: #0087ff\">Embedding</span>)         │ ?                      │   <span style=\"color: #00af00; text-decoration-color: #00af00\">0</span> (unbuilt) │\n",
       "├─────────────────────────────────┼────────────────────────┼───────────────┤\n",
       "│ transformer_block_36            │ ?                      │   <span style=\"color: #00af00; text-decoration-color: #00af00\">0</span> (unbuilt) │\n",
       "│ (<span style=\"color: #0087ff; text-decoration-color: #0087ff\">TransformerBlock</span>)              │                        │               │\n",
       "├─────────────────────────────────┼────────────────────────┼───────────────┤\n",
       "│ transformer_block_37            │ ?                      │   <span style=\"color: #00af00; text-decoration-color: #00af00\">0</span> (unbuilt) │\n",
       "│ (<span style=\"color: #0087ff; text-decoration-color: #0087ff\">TransformerBlock</span>)              │                        │               │\n",
       "├─────────────────────────────────┼────────────────────────┼───────────────┤\n",
       "│ transformer_block_38            │ ?                      │   <span style=\"color: #00af00; text-decoration-color: #00af00\">0</span> (unbuilt) │\n",
       "│ (<span style=\"color: #0087ff; text-decoration-color: #0087ff\">TransformerBlock</span>)              │                        │               │\n",
       "├─────────────────────────────────┼────────────────────────┼───────────────┤\n",
       "│ transformer_block_39            │ ?                      │   <span style=\"color: #00af00; text-decoration-color: #00af00\">0</span> (unbuilt) │\n",
       "│ (<span style=\"color: #0087ff; text-decoration-color: #0087ff\">TransformerBlock</span>)              │                        │               │\n",
       "├─────────────────────────────────┼────────────────────────┼───────────────┤\n",
       "│ global_average_pooling1d_9      │ ?                      │             <span style=\"color: #00af00; text-decoration-color: #00af00\">0</span> │\n",
       "│ (<span style=\"color: #0087ff; text-decoration-color: #0087ff\">GlobalAveragePooling1D</span>)        │                        │               │\n",
       "├─────────────────────────────────┼────────────────────────┼───────────────┤\n",
       "│ dropout_92 (<span style=\"color: #0087ff; text-decoration-color: #0087ff\">Dropout</span>)            │ ?                      │             <span style=\"color: #00af00; text-decoration-color: #00af00\">0</span> │\n",
       "├─────────────────────────────────┼────────────────────────┼───────────────┤\n",
       "│ dense_89 (<span style=\"color: #0087ff; text-decoration-color: #0087ff\">Dense</span>)                │ ?                      │   <span style=\"color: #00af00; text-decoration-color: #00af00\">0</span> (unbuilt) │\n",
       "└─────────────────────────────────┴────────────────────────┴───────────────┘\n",
       "</pre>\n"
      ],
      "text/plain": [
       "┏━━━━━━━━━━━━━━━━━━━━━━━━━━━━━━━━━┳━━━━━━━━━━━━━━━━━━━━━━━━┳━━━━━━━━━━━━━━━┓\n",
       "┃\u001b[1m \u001b[0m\u001b[1mLayer (type)                   \u001b[0m\u001b[1m \u001b[0m┃\u001b[1m \u001b[0m\u001b[1mOutput Shape          \u001b[0m\u001b[1m \u001b[0m┃\u001b[1m \u001b[0m\u001b[1m      Param #\u001b[0m\u001b[1m \u001b[0m┃\n",
       "┡━━━━━━━━━━━━━━━━━━━━━━━━━━━━━━━━━╇━━━━━━━━━━━━━━━━━━━━━━━━╇━━━━━━━━━━━━━━━┩\n",
       "│ embedding_9 (\u001b[38;5;33mEmbedding\u001b[0m)         │ ?                      │   \u001b[38;5;34m0\u001b[0m (unbuilt) │\n",
       "├─────────────────────────────────┼────────────────────────┼───────────────┤\n",
       "│ transformer_block_36            │ ?                      │   \u001b[38;5;34m0\u001b[0m (unbuilt) │\n",
       "│ (\u001b[38;5;33mTransformerBlock\u001b[0m)              │                        │               │\n",
       "├─────────────────────────────────┼────────────────────────┼───────────────┤\n",
       "│ transformer_block_37            │ ?                      │   \u001b[38;5;34m0\u001b[0m (unbuilt) │\n",
       "│ (\u001b[38;5;33mTransformerBlock\u001b[0m)              │                        │               │\n",
       "├─────────────────────────────────┼────────────────────────┼───────────────┤\n",
       "│ transformer_block_38            │ ?                      │   \u001b[38;5;34m0\u001b[0m (unbuilt) │\n",
       "│ (\u001b[38;5;33mTransformerBlock\u001b[0m)              │                        │               │\n",
       "├─────────────────────────────────┼────────────────────────┼───────────────┤\n",
       "│ transformer_block_39            │ ?                      │   \u001b[38;5;34m0\u001b[0m (unbuilt) │\n",
       "│ (\u001b[38;5;33mTransformerBlock\u001b[0m)              │                        │               │\n",
       "├─────────────────────────────────┼────────────────────────┼───────────────┤\n",
       "│ global_average_pooling1d_9      │ ?                      │             \u001b[38;5;34m0\u001b[0m │\n",
       "│ (\u001b[38;5;33mGlobalAveragePooling1D\u001b[0m)        │                        │               │\n",
       "├─────────────────────────────────┼────────────────────────┼───────────────┤\n",
       "│ dropout_92 (\u001b[38;5;33mDropout\u001b[0m)            │ ?                      │             \u001b[38;5;34m0\u001b[0m │\n",
       "├─────────────────────────────────┼────────────────────────┼───────────────┤\n",
       "│ dense_89 (\u001b[38;5;33mDense\u001b[0m)                │ ?                      │   \u001b[38;5;34m0\u001b[0m (unbuilt) │\n",
       "└─────────────────────────────────┴────────────────────────┴───────────────┘\n"
      ]
     },
     "metadata": {},
     "output_type": "display_data"
    },
    {
     "data": {
      "text/html": [
       "<pre style=\"white-space:pre;overflow-x:auto;line-height:normal;font-family:Menlo,'DejaVu Sans Mono',consolas,'Courier New',monospace\"><span style=\"font-weight: bold\"> Total params: </span><span style=\"color: #00af00; text-decoration-color: #00af00\">0</span> (0.00 B)\n",
       "</pre>\n"
      ],
      "text/plain": [
       "\u001b[1m Total params: \u001b[0m\u001b[38;5;34m0\u001b[0m (0.00 B)\n"
      ]
     },
     "metadata": {},
     "output_type": "display_data"
    },
    {
     "data": {
      "text/html": [
       "<pre style=\"white-space:pre;overflow-x:auto;line-height:normal;font-family:Menlo,'DejaVu Sans Mono',consolas,'Courier New',monospace\"><span style=\"font-weight: bold\"> Trainable params: </span><span style=\"color: #00af00; text-decoration-color: #00af00\">0</span> (0.00 B)\n",
       "</pre>\n"
      ],
      "text/plain": [
       "\u001b[1m Trainable params: \u001b[0m\u001b[38;5;34m0\u001b[0m (0.00 B)\n"
      ]
     },
     "metadata": {},
     "output_type": "display_data"
    },
    {
     "data": {
      "text/html": [
       "<pre style=\"white-space:pre;overflow-x:auto;line-height:normal;font-family:Menlo,'DejaVu Sans Mono',consolas,'Courier New',monospace\"><span style=\"font-weight: bold\"> Non-trainable params: </span><span style=\"color: #00af00; text-decoration-color: #00af00\">0</span> (0.00 B)\n",
       "</pre>\n"
      ],
      "text/plain": [
       "\u001b[1m Non-trainable params: \u001b[0m\u001b[38;5;34m0\u001b[0m (0.00 B)\n"
      ]
     },
     "metadata": {},
     "output_type": "display_data"
    }
   ],
   "source": [
    "# Transformers Blok\n",
    "\n",
    "class TransformerBlock(layers.Layer):\n",
    "    def __init__(self, embed_size, heads ,dropout_rate =0.3):\n",
    "        super(TransformerBlock, self).__init__()\n",
    "\n",
    "        self.attention = layers.MultiHeadAttention(num_heads=heads, key_dim = embed_size)\n",
    "        self.norm1 = layers.LayerNormalization(epsilon = 1e-6)\n",
    "        self.norm2 = layers.LayerNormalization(epsilon = 1e-6)\n",
    "\n",
    "        self.feed_foward = models.Sequential([\n",
    "            layers.Dense(embed_size*4, activation = \"relu\"),\n",
    "            layers.Dense(embed_size)\n",
    "        ])\n",
    "        self.dropout1 = layers.Dropout(dropout_rate)\n",
    "        self.dropout2 = layers.Dropout(dropout_rate)\n",
    "\n",
    "    def call(self, x, training):\n",
    "        # dikkat (attention ) mekanizmasını uygulama\n",
    "        attention = self.attention(x, x)\n",
    "        x = self.norm1(x + self.dropout1(attention, training = training))\n",
    "        feed_forward = self.feed_foward(x)\n",
    "        return self.norm2(x + self.dropout2(feed_forward, training = training))\n",
    "    \n",
    "# Transformers Modeli\n",
    "\n",
    "class TransformerModel(models.Model):\n",
    "    def __init__(self, num_layers,embed_sizr, heads, input_dim, output_dim , dropout_rate = 0.3):\n",
    "        super(TransformerModel, self).__init__()\n",
    "\n",
    "        self.embedding = layers.Embedding(input_dim=input_dim, output_dim=embed_size)\n",
    "        self.transformer_blocks = [TransformerBlock(embed_size, heads, dropout_rate) for _ in range(num_layers)]\n",
    "        self.global_avg_pool = layers.GlobalAveragePooling1D()\n",
    "        self.dropout = layers.Dropout(dropout_rate)\n",
    "        self.fc = layers.Dense(output_dim, activation = \"sigmoid\")\n",
    "\n",
    "    def call(self, x, training):\n",
    "        x = self.embedding(x)\n",
    "        for transformer in self.transformer_blocks:\n",
    "            x = transformer(x, training=training)\n",
    "            x = self.global_avg_pool(x)\n",
    "            x = self.dropout(x, training=training)\n",
    "            return self.fc(x)\n",
    "        \n",
    "# Modeli olusturma\n",
    "\n",
    "num_layers = 4 \n",
    "embed_size = 64\n",
    "num_heads = 4\n",
    "input_dim = max_features\n",
    "output_dim = 1 # ikli sınuflafırma 1-0\n",
    "dropout_rate = 0.1\n",
    "\n",
    "model = TransformerModel(num_layers, embed_size, num_heads, input_dim, output_dim, dropout_rate)\n",
    "\n",
    "model.build(input_shape = (None, maxlen))\n",
    "\n",
    "model.compile(loss = \"binary_crossentropy\", optimizer = \"adam\", metrics = [\"accuracy\"])\n",
    "\n",
    "model.summary()\n"
   ]
  },
  {
   "cell_type": "code",
   "execution_count": 22,
   "metadata": {},
   "outputs": [
    {
     "name": "stdout",
     "output_type": "stream",
     "text": [
      "Epoch 1/4\n",
      "\u001b[1m196/196\u001b[0m \u001b[32m━━━━━━━━━━━━━━━━━━━━\u001b[0m\u001b[37m\u001b[0m \u001b[1m55s\u001b[0m 260ms/step - accuracy: 0.7001 - loss: 0.5509 - val_accuracy: 0.8387 - val_loss: 0.3655\n",
      "Epoch 2/4\n",
      "\u001b[1m196/196\u001b[0m \u001b[32m━━━━━━━━━━━━━━━━━━━━\u001b[0m\u001b[37m\u001b[0m \u001b[1m55s\u001b[0m 280ms/step - accuracy: 0.8919 - loss: 0.2659 - val_accuracy: 0.8446 - val_loss: 0.3557\n",
      "Epoch 3/4\n",
      "\u001b[1m196/196\u001b[0m \u001b[32m━━━━━━━━━━━━━━━━━━━━\u001b[0m\u001b[37m\u001b[0m \u001b[1m53s\u001b[0m 271ms/step - accuracy: 0.9223 - loss: 0.1998 - val_accuracy: 0.8375 - val_loss: 0.4046\n",
      "Epoch 4/4\n",
      "\u001b[1m196/196\u001b[0m \u001b[32m━━━━━━━━━━━━━━━━━━━━\u001b[0m\u001b[37m\u001b[0m \u001b[1m53s\u001b[0m 271ms/step - accuracy: 0.9382 - loss: 0.1675 - val_accuracy: 0.8328 - val_loss: 0.4257\n"
     ]
    }
   ],
   "source": [
    "# model egitimi \n",
    "\n",
    "history = model.fit(x_train, y_train, batch_size = 128, epochs = 4, validation_data = (x_test, y_test))"
   ]
  },
  {
   "cell_type": "code",
   "execution_count": 29,
   "metadata": {},
   "outputs": [
    {
     "data": {
      "image/png": "[encoded data removed]",
      "text/plain": [
       "<Figure size 640x480 with 2 Axes>"
      ]
     },
     "metadata": {},
     "output_type": "display_data"
    }
   ],
   "source": [
    "plt.figure()\n",
    "\n",
    "plt.subplot(1,2,1)\n",
    "plt.plot(history.history['accuracy'], label='Train Acc')\n",
    "plt.plot(history.history['val_accuracy'], label='Val Acc')\n",
    "plt.title(\"Traning and Validation Accuracy\")\n",
    "plt.xlabel('Epochs')\n",
    "plt.ylabel('Accuracy')\n",
    "plt.legend()\n",
    "plt.grid('True')\n",
    "\n",
    "plt.subplot(1,2,2)\n",
    "plt.plot(history.history['loss'], label='Train loss')\n",
    "plt.plot(history.history['val_loss'], label='Val loss')\n",
    "plt.title(\"Traning and Validation loss\")\n",
    "plt.xlabel('Epochs')\n",
    "plt.ylabel('loss')\n",
    "plt.legend()\n",
    "plt.grid('True')"
   ]
  },
  {
   "cell_type": "code",
   "execution_count": 28,
   "metadata": {},
   "outputs": [
    {
     "name": "stdout",
     "output_type": "stream",
     "text": [
      "\u001b[1m1/1\u001b[0m \u001b[32m━━━━━━━━━━━━━━━━━━━━\u001b[0m\u001b[37m\u001b[0m \u001b[1m0s\u001b[0m 58ms/step\n",
      "olumsuz yorum\n"
     ]
    }
   ],
   "source": [
    "def predict_sentiment(model, text, word_index, maxlen):\n",
    "\n",
    "    # metni imdb formatında sayıya çevir\n",
    "    encoded_text = [word_index.get(word, 0) for word in text.lower().split()]\n",
    "    padded_text = pad_sequences([encoded_text], maxlen=maxlen) # padding uygula\n",
    "    prediction = model.predict(padded_text) # tahmin yap\n",
    "    return prediction[0][0]\n",
    "\n",
    "# kullanıcıdan yorum al\n",
    "user_input = input(\"Yorum gir: \")\n",
    "sentiment_score = predict_sentiment(model, user_input, word_index, maxlen)\n",
    "\n",
    "if sentiment_score >= 0.5:\n",
    "    print(\"olumsuz yorum\")\n",
    "else:\n",
    "    print(\"olumlu yorum\")"
   ]
  }
 ],
 "metadata": {
  "kernelspec": {
   "display_name": "Python 3",
   "language": "python",
   "name": "python3"
  },
  "language_info": {
   "codemirror_mode": {
    "name": "ipython",
    "version": 3
   },
   "file_extension": ".py",
   "mimetype": "text/x-python",
   "name": "python",
   "nbconvert_exporter": "python",
   "pygments_lexer": "ipython3",
   "version": "3.11.6"
  }
 },
 "nbformat": 4,
 "nbformat_minor": 2
}
