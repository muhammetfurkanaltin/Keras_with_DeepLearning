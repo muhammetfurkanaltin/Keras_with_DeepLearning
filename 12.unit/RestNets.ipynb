{
 "cells": [
  {
   "cell_type": "markdown",
   "metadata": {},
   "source": [
    "Artık Ağlar Uygulaması"
   ]
  },
  {
   "cell_type": "code",
   "execution_count": 1,
   "metadata": {},
   "outputs": [
    {
     "name": "stderr",
     "output_type": "stream",
     "text": [
      "C:\\Users\\mfurk\\AppData\\Local\\Temp\\ipykernel_7944\\4025274611.py:3: DeprecationWarning: `import kerastuner` is deprecated, please use `import keras_tuner`.\n",
      "  from kerastuner import HyperModel, RandomSearch\n"
     ]
    }
   ],
   "source": [
    "import tensorflow as tf \n",
    "\n",
    "from kerastuner import HyperModel, RandomSearch\n",
    "\n",
    "from tensorflow.keras.datasets import fashion_mnist\n",
    "from tensorflow.keras.layers import Conv2D, BatchNormalization, Activation, Add, Flatten, Dense, Input\n",
    "from tensorflow.keras.models import Model\n",
    "from tensorflow.keras.optimizers import Adam \n",
    "from tensorflow.keras.utils import to_categorical\n",
    "\n",
    "\n",
    "\n",
    "# data loading\n",
    "(train_imgs, train_labels), (test_imgs, test_labels) = fashion_mnist.load_data()\n",
    "\n",
    "# data preprocessing\n",
    "train_images = train_imgs.reshape(-1, 28, 28, 1) / 255.0  # normalde \"60000\" yazmam gerekiyordu ama \"-1\" diyerek kendisi seçmesi için bıraktım.\n",
    "test_images = test_imgs.reshape(-1, 28, 28, 1) / 255.0\n",
    "\n",
    "# one-hot encoding\n",
    "train_labels = to_categorical(train_labels, 10)\n",
    "test_labels = to_categorical(test_labels, 10)"
   ]
  },
  {
   "cell_type": "code",
   "execution_count": 2,
   "metadata": {},
   "outputs": [],
   "source": [
    "def residual_block(x, filters, kernel_size=3, stride =1):\n",
    "    shortcut = x\n",
    "    x = Conv2D(filters, kernel_size=kernel_size,strides =stride, padding='same' )(x)\n",
    "    x = BatchNormalization()(x)\n",
    "    x = Activation('relu')(x)\n",
    "\n",
    "    x = Conv2D(filters, kernel_size=kernel_size, strides = stride, padding='same')(x)\n",
    "    x = BatchNormalization()(x)\n",
    "\n",
    "    if shortcut.shape[-1] != filters :\n",
    "        shortcut = Conv2D(filters, kernel_size=1, strides = stride,padding='same')(shortcut)\n",
    "\n",
    "    x = Add()([x, shortcut])\n",
    "    x = Activation('relu')(x)\n",
    "\n",
    "    return x"
   ]
  },
  {
   "cell_type": "code",
   "execution_count": 6,
   "metadata": {},
   "outputs": [
    {
     "data": {
      "text/plain": [
       "<__main__.ResNetModel at 0x2667c0c8090>"
      ]
     },
     "execution_count": 6,
     "metadata": {},
     "output_type": "execute_result"
    }
   ],
   "source": [
    "class ResNetModel(HyperModel):\n",
    "    def build(self, hp):\n",
    "        inputs = Input(shape=(28,28,1))\n",
    "\n",
    "        x = Conv2D(filters = hp.Int(\"initial_filters\", min_value=32, max_value=256, step=32)\n",
    "                   , kernel_size=3, strides=1, padding='same')(inputs)\n",
    "        x = BatchNormalization()(x)\n",
    "\n",
    "        #residual blok ekleyelim\n",
    "        for i in range(hp.Int('num_blocks',min_value = 1,max_value =3, step = 1)):\n",
    "            x = residual_block(x, hp.Int(\"res_filters_\" + str(i), min_value=32, max_value=128, step=32))\n",
    "\n",
    "        # sınıflandırma katmanı\n",
    "        x = Flatten()(x)\n",
    "        z = Dense(128, activation = \"relu\")(x)\n",
    "        outputs = Dense(10, activation = \"softmax\")(z)\n",
    "\n",
    "        model = Model(inputs, outputs)\n",
    "\n",
    "        model.compile(optimizer = Adam(hp.Float(\"learning_rate\", 1e-4, 1e-2, sampling=\"log\")),\n",
    "                      loss = \"categorical_crossentropy\",\n",
    "                      metrics = [\"accuracy\"])\n",
    "        return model\n",
    "ResNetModel()"
   ]
  },
  {
   "cell_type": "code",
   "execution_count": 7,
   "metadata": {},
   "outputs": [
    {
     "name": "stdout",
     "output_type": "stream",
     "text": [
      "Trial 2 Complete [00h 10m 19s]\n",
      "val_accuracy: 0.896399974822998\n",
      "\n",
      "Best val_accuracy So Far: 0.896399974822998\n",
      "Total elapsed time: 00h 20m 55s\n"
     ]
    },
    {
     "name": "stderr",
     "output_type": "stream",
     "text": [
      "c:\\Users\\mfurk\\AppData\\Local\\Programs\\Python\\Python311\\Lib\\site-packages\\keras\\src\\saving\\saving_lib.py:757: UserWarning: Skipping variable loading for optimizer 'adam', because it has 2 variables whereas the saved optimizer has 58 variables. \n",
      "  saveable.load_own_variables(weights_store.get(inner_path))\n"
     ]
    },
    {
     "name": "stdout",
     "output_type": "stream",
     "text": [
      "\u001b[1m313/313\u001b[0m \u001b[32m━━━━━━━━━━━━━━━━━━━━\u001b[0m\u001b[37m\u001b[0m \u001b[1m22s\u001b[0m 68ms/step - accuracy: 0.8946 - loss: 0.2852\n",
      "0.896399974822998\n",
      "0.28106191754341125\n"
     ]
    }
   ],
   "source": [
    "tuner = RandomSearch(\n",
    "    ResNetModel(),\n",
    "    objective = \"val_accuracy\",\n",
    "    max_trials = 2,\n",
    "    executions_per_trial = 1,\n",
    "    directory = \"my_dir\",\n",
    "    project_name = \"fashion_mnist\"\n",
    ")\n",
    "\n",
    "tuner.search(train_images, train_labels, epochs = 1, validation_data = (test_images, test_labels))\n",
    "\n",
    "best_model = tuner.get_best_models(num_models=1)[0]\n",
    "\n",
    "test_loss, test_acc = best_model.evaluate(test_images, test_labels)\n",
    "print(test_acc)\n",
    "print(test_loss)"
   ]
  }
 ],
 "metadata": {
  "kernelspec": {
   "display_name": "Python 3",
   "language": "python",
   "name": "python3"
  },
  "language_info": {
   "codemirror_mode": {
    "name": "ipython",
    "version": 3
   },
   "file_extension": ".py",
   "mimetype": "text/x-python",
   "name": "python",
   "nbconvert_exporter": "python",
   "pygments_lexer": "ipython3",
   "version": "3.11.6"
  }
 },
 "nbformat": 4,
 "nbformat_minor": 2
}
